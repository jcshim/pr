{
  "nbformat": 4,
  "nbformat_minor": 0,
  "metadata": {
    "colab": {
      "name": "study1.ipynb",
      "provenance": [],
      "authorship_tag": "ABX9TyNNfFla+xgx2YCukvCRrHbB",
      "include_colab_link": true
    },
    "kernelspec": {
      "name": "python3",
      "display_name": "Python 3"
    }
  },
  "cells": [
    {
      "cell_type": "markdown",
      "metadata": {
        "id": "view-in-github",
        "colab_type": "text"
      },
      "source": [
        "<a href=\"https://colab.research.google.com/github/jcshim/pr/blob/master/study1.ipynb\" target=\"_parent\"><img src=\"https://colab.research.google.com/assets/colab-badge.svg\" alt=\"Open In Colab\"/></a>"
      ]
    },
    {
      "cell_type": "markdown",
      "metadata": {
        "id": "9vtwbnKMQkFO",
        "colab_type": "text"
      },
      "source": [
        "## 텐서플로우 2.0 설치하기\n"
      ]
    },
    {
      "cell_type": "code",
      "metadata": {
        "id": "Cf192u8DQaal",
        "colab_type": "code",
        "colab": {}
      },
      "source": [
        "!pip uninstall tensorflow"
      ],
      "execution_count": 0,
      "outputs": []
    },
    {
      "cell_type": "code",
      "metadata": {
        "id": "acGlrB01bHTq",
        "colab_type": "code",
        "colab": {}
      },
      "source": [
        "!pip uninstall tensorflow-gpu"
      ],
      "execution_count": 0,
      "outputs": []
    },
    {
      "cell_type": "code",
      "metadata": {
        "id": "QHBLNt_za-Wb",
        "colab_type": "code",
        "colab": {}
      },
      "source": [
        "!pip install --upgrade pip"
      ],
      "execution_count": 0,
      "outputs": []
    },
    {
      "cell_type": "code",
      "metadata": {
        "id": "yUPJNsuYbA3q",
        "colab_type": "code",
        "colab": {}
      },
      "source": [
        "!pip install tensorflow"
      ],
      "execution_count": 0,
      "outputs": []
    },
    {
      "cell_type": "code",
      "metadata": {
        "id": "erC7muJxbC2A",
        "colab_type": "code",
        "colab": {}
      },
      "source": [
        "!pip install tensorflow-gpu"
      ],
      "execution_count": 0,
      "outputs": []
    },
    {
      "cell_type": "markdown",
      "metadata": {
        "id": "e944mHQfQqFV",
        "colab_type": "text"
      },
      "source": [
        "텐서플로우 버전확인"
      ]
    },
    {
      "cell_type": "code",
      "metadata": {
        "id": "f2Lfcz5xQscU",
        "colab_type": "code",
        "colab": {}
      },
      "source": [
        "import tensorflow as tf\n",
        "print(tf.__version__)"
      ],
      "execution_count": 0,
      "outputs": []
    },
    {
      "cell_type": "markdown",
      "metadata": {
        "id": "lk40wdmcQtjs",
        "colab_type": "text"
      },
      "source": [
        "텐서플로우 'Hello Tensroflow\""
      ]
    },
    {
      "cell_type": "code",
      "metadata": {
        "id": "c-ynmD5HQxbM",
        "colab_type": "code",
        "colab": {}
      },
      "source": [
        "import tensorflow as tf\n",
        "msg = tf.constant('TensorFlow 2.0 Hello World')\n",
        "tf.print(msg)"
      ],
      "execution_count": 0,
      "outputs": []
    },
    {
      "cell_type": "markdown",
      "metadata": {
        "id": "dS1G35p5Qx7a",
        "colab_type": "text"
      },
      "source": [
        "매트릭스 곱하기"
      ]
    },
    {
      "cell_type": "code",
      "metadata": {
        "id": "viYpoYhAQ1JK",
        "colab_type": "code",
        "colab": {}
      },
      "source": [
        "import tensorflow as tf\n",
        "# 텐서 생성\n",
        "a = tf.constant([[1.0, 2.0, 3.0], [4.0, 5.0, 6.0]])\n",
        "b = tf.constant([[1.0, 2.0], [3.0, 4.0], [5.0, 6.0]])\n",
        "c = tf.matmul(a, b)\n",
        "print(c)"
      ],
      "execution_count": 0,
      "outputs": []
    }
  ]
}