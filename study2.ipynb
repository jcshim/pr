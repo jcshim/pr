{
  "nbformat": 4,
  "nbformat_minor": 0,
  "metadata": {
    "colab": {
      "name": "study2.ipynb",
      "provenance": [],
      "private_outputs": true,
      "authorship_tag": "ABX9TyOXwOYJLO96FG43x3L85J3o",
      "include_colab_link": true
    },
    "kernelspec": {
      "name": "python3",
      "display_name": "Python 3"
    },
    "accelerator": "GPU"
  },
  "cells": [
    {
      "cell_type": "markdown",
      "metadata": {
        "id": "view-in-github",
        "colab_type": "text"
      },
      "source": [
        "<a href=\"https://colab.research.google.com/github/jcshim/pr/blob/master/study2.ipynb\" target=\"_parent\"><img src=\"https://colab.research.google.com/assets/colab-badge.svg\" alt=\"Open In Colab\"/></a>"
      ]
    },
    {
      "cell_type": "markdown",
      "metadata": {
        "id": "FyWLARbOHNht",
        "colab_type": "text"
      },
      "source": [
        "## 붓꽃 분류하기\n",
        "\n",
        "* Pairplot으로 그려보자. \n",
        "* Petal의 길이와 폭(제일 아랫줄 세번째)이 녹색과 청색\n",
        "* 즉 Versicolor, Virginica를 딱 구분할 방법은 없어 보인다.\n",
        "* Keras로 구분을 해 보자."
      ]
    },
    {
      "cell_type": "code",
      "metadata": {
        "id": "zLtMyhTUCMfY",
        "colab_type": "code",
        "colab": {}
      },
      "source": [
        "import seaborn as sns\n",
        "import pandas as pd\n",
        "import numpy as np\n",
        "sns.set(style=\"ticks\", color_codes=True)\n",
        "iris = sns.load_dataset(\"iris\")\n",
        "g = sns.pairplot(iris, hue=\"species\", palette=\"husl\")"
      ],
      "execution_count": 0,
      "outputs": []
    },
    {
      "cell_type": "markdown",
      "metadata": {
        "id": "UTSG2WDiIBsV",
        "colab_type": "text"
      },
      "source": [
        "## 데이터 정보를 살펴보자.\n",
        "\n",
        "* 150개 데이터\n",
        "* 4개의 특성과 종의 이름"
      ]
    },
    {
      "cell_type": "code",
      "metadata": {
        "id": "E97XiXFLCa1M",
        "colab_type": "code",
        "colab": {}
      },
      "source": [
        "iris.info()"
      ],
      "execution_count": 0,
      "outputs": []
    },
    {
      "cell_type": "markdown",
      "metadata": {
        "id": "PGAeG_hFIj2b",
        "colab_type": "text"
      },
      "source": [
        "종의 이름 확인"
      ]
    },
    {
      "cell_type": "code",
      "metadata": {
        "id": "ZKdMRe97HaRA",
        "colab_type": "code",
        "colab": {}
      },
      "source": [
        "iris['species'].unique()"
      ],
      "execution_count": 0,
      "outputs": []
    },
    {
      "cell_type": "markdown",
      "metadata": {
        "id": "U4eF-laLI68b",
        "colab_type": "text"
      },
      "source": [
        "문자열로된 이름에 번호를 붙이고(LabelEncoder) 그 번호를 원핫인코딩(one hot encoding) 방식으로 펼치기"
      ]
    },
    {
      "cell_type": "code",
      "metadata": {
        "id": "EFSPI7nKIgzk",
        "colab_type": "code",
        "colab": {}
      },
      "source": [
        "from sklearn.preprocessing import LabelEncoder\n",
        "\n",
        "X = iris.iloc[:,0:4].values\n",
        "y = iris.iloc[:,4].values\n",
        "\n",
        "encoder =  LabelEncoder()\n",
        "y1 = encoder.fit_transform(y)\n",
        "Y = pd.get_dummies(y1).values\n",
        "Y"
      ],
      "execution_count": 0,
      "outputs": []
    },
    {
      "cell_type": "markdown",
      "metadata": {
        "id": "xmisKDwbJlgd",
        "colab_type": "text"
      },
      "source": [
        "이제 위 코드로 데이터를 학습용과 훈련용으로 나누기"
      ]
    },
    {
      "cell_type": "code",
      "metadata": {
        "id": "ZyppI_s0IunL",
        "colab_type": "code",
        "colab": {}
      },
      "source": [
        "from sklearn.model_selection import train_test_split\n",
        "X_train, X_test, y_train, y_test = train_test_split(X, Y, test_size=0.2, random_state=1) \n",
        "X_train.shape, X_test.shape, y_train.shape, y_test.shape"
      ],
      "execution_count": 0,
      "outputs": []
    },
    {
      "cell_type": "markdown",
      "metadata": {
        "id": "q7Io2y8gJyv2",
        "colab_type": "text"
      },
      "source": [
        "120개의 학습데이터와 30개의 테스트 데이터로 나누어졌음. Keras 모델을 만들기"
      ]
    },
    {
      "cell_type": "markdown",
      "metadata": {
        "id": "cLzl29EmP2PS",
        "colab_type": "text"
      },
      "source": [
        "# [붓꽃 분류](https://tensorflow.blog/%ED%8C%8C%EC%9D%B4%EC%8D%AC-%EB%A8%B8%EC%8B%A0%EB%9F%AC%EB%8B%9D/1-7-%EC%B2%AB-%EB%B2%88%EC%A7%B8-%EC%95%A0%ED%94%8C%EB%A6%AC%EC%BC%80%EC%9D%B4%EC%85%98-%EB%B6%93%EA%BD%83%EC%9D%98-%ED%92%88%EC%A2%85-%EB%B6%84%EB%A5%98/)"
      ]
    },
    {
      "cell_type": "code",
      "metadata": {
        "id": "FpH0euw9KK-7",
        "colab_type": "code",
        "colab": {}
      },
      "source": [
        "from sklearn.datasets import load_iris\n",
        "iris_dataset = load_iris()\n",
        "print(\"iris_dataset의 키: \\n{}\".format(iris_dataset.keys()))\n",
        "print(iris_dataset['DESCR'][:193] + \"\\n...\")\n",
        "print(\"타깃의 이름: {}\".format(iris_dataset['target_names']))\n",
        "print(\"특성의 이름: \\n{}\".format(iris_dataset['feature_names']))\n",
        "print(\"data의 타입: {}\".format(type(iris_dataset['data'])))\n",
        "print(\"data의 크기: {}\".format(iris_dataset['data'].shape))\n",
        "print(\"data의 처음 다섯 행:\\n{}\".format(iris_dataset['data'][:5]))\n",
        "print(\"target의 타입: {}\".format(type(iris_dataset['target'])))\n",
        "print(\"target의 크기: {}\".format(iris_dataset['target'].shape))\n",
        "print(\"타깃:\\n{}\".format(iris_dataset['target']))"
      ],
      "execution_count": 0,
      "outputs": []
    },
    {
      "cell_type": "code",
      "metadata": {
        "id": "dLXyTwk4LYoJ",
        "colab_type": "code",
        "colab": {}
      },
      "source": [
        "from sklearn.model_selection import train_test_split\n",
        "X_train, X_test, y_train, y_test = train_test_split(\n",
        "iris_dataset['data'], iris_dataset['target'], random_state=0)"
      ],
      "execution_count": 0,
      "outputs": []
    },
    {
      "cell_type": "code",
      "metadata": {
        "id": "Exg3Wh_BMSPk",
        "colab_type": "code",
        "colab": {}
      },
      "source": [
        "print(\"X_train 크기: {}\".format(X_train.shape))\n",
        "print(\"y_train 크기: {}\".format(y_train.shape))\n",
        "print(\"X_test 크기: {}\".format(X_test.shape))\n",
        "print(\"y_test 크기: {}\".format(y_test.shape))"
      ],
      "execution_count": 0,
      "outputs": []
    },
    {
      "cell_type": "code",
      "metadata": {
        "id": "sh44BJ1RMVn3",
        "colab_type": "code",
        "colab": {}
      },
      "source": [
        "import mglearn\n",
        "# X_train 데이터를 사용해서 데이터프레임을 만듭니다.\n",
        "# 열의 이름은 iris_dataset.feature_names에 있는 문자열을 사용합니다.\n",
        "iris_dataframe = pd.DataFrame(X_train, columns=iris_dataset.feature_names)\n",
        "# 데이터프레임을 사용해 y_train에 따라 색으로 구분된 산점도 행렬을 만듭니다.\n",
        "pd.plotting.scatter_matrix(iris_dataframe, c=y_train, figsize=(15, 15), marker='o',\n",
        "hist_kwds={'bins': 20}, s=60, alpha=.8, cmap=mglearn.cm3)"
      ],
      "execution_count": 0,
      "outputs": []
    },
    {
      "cell_type": "code",
      "metadata": {
        "id": "Ptpm4E-jMkIu",
        "colab_type": "code",
        "colab": {}
      },
      "source": [
        "!pip3 install mglearn"
      ],
      "execution_count": 0,
      "outputs": []
    },
    {
      "cell_type": "code",
      "metadata": {
        "id": "50cWCyfdNGOB",
        "colab_type": "code",
        "colab": {}
      },
      "source": [
        "from sklearn.neighbors import KNeighborsClassifier\n",
        "knn = KNeighborsClassifier(n_neighbors=1)\n",
        "knn.fit(X_train, y_train)"
      ],
      "execution_count": 0,
      "outputs": []
    },
    {
      "cell_type": "code",
      "metadata": {
        "id": "gTLSf1-BO_Zt",
        "colab_type": "code",
        "colab": {}
      },
      "source": [
        "X_new = np.array([[5, 2.9, 1, 0.2]])\n",
        "print(\"X_new.shape: {}\".format(X_new.shape))"
      ],
      "execution_count": 0,
      "outputs": []
    },
    {
      "cell_type": "code",
      "metadata": {
        "id": "si8p2OOpPC4k",
        "colab_type": "code",
        "colab": {}
      },
      "source": [
        "prediction = knn.predict(X_new)\n",
        "print(\"예측: {}\".format(prediction))\n",
        "print(\"예측한 타깃의 이름: {}\".format(\n",
        "iris_dataset['target_names'][prediction]))"
      ],
      "execution_count": 0,
      "outputs": []
    },
    {
      "cell_type": "markdown",
      "metadata": {
        "id": "oNQU5aI_PTYn",
        "colab_type": "text"
      },
      "source": [
        "## 모델 평가"
      ]
    },
    {
      "cell_type": "code",
      "metadata": {
        "id": "vzLJZCfWPFpb",
        "colab_type": "code",
        "colab": {}
      },
      "source": [
        "y_pred = knn.predict(X_test)\n",
        "print(\"테스트 세트에 대한 예측값:\\n {}\".format(y_pred))"
      ],
      "execution_count": 0,
      "outputs": []
    },
    {
      "cell_type": "code",
      "metadata": {
        "id": "7QabRe8HPJ6V",
        "colab_type": "code",
        "colab": {}
      },
      "source": [
        " print(\"테스트 세트의 정확도: {:.2f}\".format(np.mean(y_pred == y_test)))"
      ],
      "execution_count": 0,
      "outputs": []
    },
    {
      "cell_type": "code",
      "metadata": {
        "id": "dWZAGSKQPixU",
        "colab_type": "code",
        "colab": {}
      },
      "source": [
        "print(\"테스트 세트의 정확도: {:.2f}\".format(np.mean(y_pred == y_test)))"
      ],
      "execution_count": 0,
      "outputs": []
    }
  ]
}