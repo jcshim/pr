{
  "nbformat": 4,
  "nbformat_minor": 0,
  "metadata": {
    "colab": {
      "name": "study4.ipynb",
      "provenance": [],
      "collapsed_sections": [],
      "authorship_tag": "ABX9TyPYrtQw/OCw5/4h3p5JT8v5",
      "include_colab_link": true
    },
    "kernelspec": {
      "name": "python3",
      "display_name": "Python 3"
    }
  },
  "cells": [
    {
      "cell_type": "markdown",
      "metadata": {
        "id": "view-in-github",
        "colab_type": "text"
      },
      "source": [
        "<a href=\"https://colab.research.google.com/github/jcshim/pr/blob/master/study4.ipynb\" target=\"_parent\"><img src=\"https://colab.research.google.com/assets/colab-badge.svg\" alt=\"Open In Colab\"/></a>"
      ]
    },
    {
      "cell_type": "markdown",
      "metadata": {
        "id": "MwaNhihWRLA8",
        "colab_type": "text"
      },
      "source": [
        "## [텐서플로우 빠른 학습](https://colab.research.google.com/github/tensorflow/docs/blob/master/site/en/tutorials/quickstart/beginner.ipynb?hl=ko)\n",
        "* [MNIST 데이터베이스](https://ko.wikipedia.org/wiki/MNIST_%EB%8D%B0%EC%9D%B4%ED%84%B0%EB%B2%A0%EC%9D%B4%EC%8A%A4)\n",
        "  * Modified National Institute of Standards and Technology database\n",
        "  * 손으로 쓴 숫자들로 이루어진 대형 데이터베이스\n",
        "  * 다양한 영상 처리 시스템을 트레이닝하기 위해 일반적으로 사용\n",
        "  * 데이터베이스는 또한 기계 학습 분야의 트레이닝 및 테스트에 널리 사용\n",
        "* [필기체 숫자 인식 시스템](https://www.google.com/url?sa=i&url=https%3A%2F%2Fgithub.com%2Fcazala%2Fmnist&psig=AOvVaw0eVtgmsdYpOwEidGfhHmkZ&ust=1584397608233000&source=images&cd=vfe&ved=2ahUKEwjtl5-Ww53oAhWYEIgKHarGAfgQr4kDegUIARD8AQ)\n"
      ]
    },
    {
      "cell_type": "code",
      "metadata": {
        "id": "14-KYy4TStbE",
        "colab_type": "code",
        "colab": {}
      },
      "source": [
        ""
      ],
      "execution_count": 0,
      "outputs": []
    }
  ]
}